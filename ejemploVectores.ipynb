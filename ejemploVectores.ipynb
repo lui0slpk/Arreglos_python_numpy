{
  "nbformat": 4,
  "nbformat_minor": 0,
  "metadata": {
    "colab": {
      "provenance": [],
      "authorship_tag": "ABX9TyMAncBHKXzcvmZmh+8yT14/",
      "include_colab_link": true
    },
    "kernelspec": {
      "name": "python3",
      "display_name": "Python 3"
    },
    "language_info": {
      "name": "python"
    }
  },
  "cells": [
    {
      "cell_type": "markdown",
      "metadata": {
        "id": "view-in-github",
        "colab_type": "text"
      },
      "source": [
        "<a href=\"https://colab.research.google.com/github/lui0slpk/Arreglos_python_numpy/blob/main/ejemploVectores.ipynb\" target=\"_parent\"><img src=\"https://colab.research.google.com/assets/colab-badge.svg\" alt=\"Open In Colab\"/></a>"
      ]
    },
    {
      "cell_type": "code",
      "execution_count": null,
      "metadata": {
        "id": "NUV5Z_JUD2f7"
      },
      "outputs": [],
      "source": [
        "import numpy as np\n",
        "# numpy es una libreria para trabajar con arregros, matrices y vectores\n",
        "# primer ejemplo de uso de numpy con vectores\n",
        "\n",
        "# vector de 10 elementos\n",
        "vector = np.array([1, 2, 3, 4, 5, 6, 7, 8, 9, 10])\n",
        "#imprimir el vector\n",
        "print (\"vector original: \", vector)\n"
      ]
    }
  ]
}